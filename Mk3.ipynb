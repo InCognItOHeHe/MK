{
  "metadata": {
    "kernelspec": {
      "name": "python",
      "display_name": "Python (Pyodide)",
      "language": "python"
    },
    "language_info": {
      "codemirror_mode": {
        "name": "python",
        "version": 3
      },
      "file_extension": ".py",
      "mimetype": "text/x-python",
      "name": "python",
      "nbconvert_exporter": "python",
      "pygments_lexer": "ipython3",
      "version": "3.8"
    }
  },
  "nbformat_minor": 5,
  "nbformat": 4,
  "cells": [
    {
      "id": "43bfb540-643a-436b-92d3-348cd00e88fe",
      "cell_type": "code",
      "source": "import numpy as np\nimport pandas as pd\nimport matplotlib.pyplot as plt\n\n# 1) Wczytanie pliku\ndf = pd.read_csv(\"war9.csv\", sep=\";\")\n\n# 2) Zamiana przecinków na kropki w kolumnie y\ndf[\"y\"] = df[\"y\"].replace(\",\", \".\", regex=True).astype(float)\n\n# 3) Konwersja x1, x2 na float\ndf[\"x1\"] = df[\"x1\"].astype(float)\ndf[\"x2\"] = df[\"x2\"].astype(float)\n\n# 4) Pobranie danych\nx1 = df[\"x1\"].values\nx2 = df[\"x2\"].values\ny = df[\"y\"].values\n\n# 5) Budowa macierzy X\nX = np.column_stack((x1, x2))\n\n# 6) Regresja przez pseudoodwrotną\nbeta = np.linalg.pinv(X) @ y\na, b = beta\n\nprint(\"WSPÓŁCZYNNIKI REGRESJI:\")\nprint(f\"a = {a}\")\nprint(f\"b = {b}\")\n\n# 7) Residua i RSS\ny_pred = X @ beta\nreszty = y - y_pred\nRSS = np.sum(reszty**2)\n\nprint(\"\\nReszty:\", reszty)\nprint(\"RSS =\", RSS)\n\n# 8) WYKRES: porównanie wartości rzeczywistych z przewidywanymi\nplt.figure(figsize=(10,5))\nplt.plot(y, label=\"y (rzeczywiste)\")\nplt.plot(y_pred, label=\"y_pred (model)\", linestyle='--')\nplt.title(\"Porównanie y i y_pred\")\nplt.xlabel(\"Numer próbki\")\nplt.ylabel(\"Wartość\")\nplt.legend()\nplt.grid(True)\nplt.show()\n",
      "metadata": {
        "trusted": true
      },
      "outputs": [
        {
          "name": "stdout",
          "output_type": "stream",
          "text": "WSPÓŁCZYNNIKI REGRESJI:\na = 7.955994727753585\nb = 15.911989455507165\n\nReszty: [  -28.66153605    28.00742978   101.33477951  -241.87351045\n   111.57012455  -233.77566703  -224.5156392   -464.58670488\n   196.11355864  -463.25837804   551.12750759   227.27764431\n  -499.82126767   503.97215175   670.47717048   616.7817542\n  -689.25021268  1009.14059864 -1263.48598893    32.06201309\n    82.10686781   470.49694553    35.55926126  -628.69628202\n   865.1368147    475.10902442  -315.67418285   739.77467387\n   893.10085359   654.72465931 -1892.94166726  1702.51525676\n   131.54043848 -1076.7016728   1634.98739993   -50.51217935\n    61.89555137 -1334.97782691  1600.94701081  1342.58747254\n -2035.69442074  1733.43007398  1832.0249487  -3128.59336877\n  1301.23457915 -3040.03432723 -1188.08883041  1685.64133132\n -2392.61996496 -1268.01066624  3348.11637048  -291.56890979\n -3171.92571407 -3447.16742585 -1546.34600763  -518.1299659\n   355.28034982  1363.21756154  1640.45062926 -3151.03452901\n  1726.58382371   -88.30374657  -563.07988585 -1935.36008112\n  4149.6232736    564.61429432 -2875.59657896  3384.52159877\n -1339.44579751  -778.65785779  1246.34117893  1608.02762466\n  1129.39647238 -4840.9436119   4203.52674782   -41.71391545\n -4071.87630873  2611.19690799   793.70892571  3661.83067444\n -2003.89631484  3488.21673488  4133.2536996   3271.97357233\n  4939.24522505 -6474.89237813  1266.31741949 -2386.92044478\n -1989.43973806 -6809.28321634   653.03705538  3113.74394411\n -1103.98448717   727.91183755  2743.49353227  1330.619857\n -2890.89164228  4966.31783044 -4397.59960484 -4683.97319911\n -5838.78129839   281.70180233  2142.00865405  3066.10720678\n  1095.9502975  -4279.41134578 -1180.71061706  6208.81740766\n  1839.00832039 -2663.46501389]\nRSS = 630864116.5662199\n"
        }
      ],
      "execution_count": 5
    },
    {
      "id": "9c39647b-87df-4519-ae48-6138fb68f41f",
      "cell_type": "code",
      "source": "",
      "metadata": {
        "trusted": true
      },
      "outputs": [],
      "execution_count": null
    }
  ]
}